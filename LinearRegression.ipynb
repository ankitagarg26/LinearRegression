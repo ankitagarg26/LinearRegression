{
 "cells": [
  {
   "cell_type": "code",
   "execution_count": 1,
   "metadata": {},
   "outputs": [],
   "source": [
    "import pandas as pd\n",
    "import matplotlib.pyplot as plt\n",
    "import seaborn as sns\n",
    "import statsmodels.api as sm\n",
    "import numpy as np"
   ]
  },
  {
   "cell_type": "code",
   "execution_count": 2,
   "metadata": {},
   "outputs": [
    {
     "data": {
      "text/html": [
       "<div>\n",
       "<style scoped>\n",
       "    .dataframe tbody tr th:only-of-type {\n",
       "        vertical-align: middle;\n",
       "    }\n",
       "\n",
       "    .dataframe tbody tr th {\n",
       "        vertical-align: top;\n",
       "    }\n",
       "\n",
       "    .dataframe thead th {\n",
       "        text-align: right;\n",
       "    }\n",
       "</style>\n",
       "<table border=\"1\" class=\"dataframe\">\n",
       "  <thead>\n",
       "    <tr style=\"text-align: right;\">\n",
       "      <th></th>\n",
       "      <th>Product_id</th>\n",
       "      <th>Price</th>\n",
       "      <th>Sale</th>\n",
       "      <th>weight</th>\n",
       "      <th>resoloution</th>\n",
       "      <th>ppi</th>\n",
       "      <th>cpu_core</th>\n",
       "      <th>cpu_freq</th>\n",
       "      <th>internal_mem</th>\n",
       "      <th>ram</th>\n",
       "      <th>RearCam</th>\n",
       "      <th>Front_Cam</th>\n",
       "      <th>battery</th>\n",
       "      <th>thickness</th>\n",
       "    </tr>\n",
       "  </thead>\n",
       "  <tbody>\n",
       "    <tr>\n",
       "      <th>0</th>\n",
       "      <td>203</td>\n",
       "      <td>2357</td>\n",
       "      <td>10</td>\n",
       "      <td>135.0</td>\n",
       "      <td>5.2</td>\n",
       "      <td>424</td>\n",
       "      <td>8</td>\n",
       "      <td>1.35</td>\n",
       "      <td>16.0</td>\n",
       "      <td>3.000</td>\n",
       "      <td>13.00</td>\n",
       "      <td>8.0</td>\n",
       "      <td>2610</td>\n",
       "      <td>7.4</td>\n",
       "    </tr>\n",
       "    <tr>\n",
       "      <th>1</th>\n",
       "      <td>880</td>\n",
       "      <td>1749</td>\n",
       "      <td>10</td>\n",
       "      <td>125.0</td>\n",
       "      <td>4.0</td>\n",
       "      <td>233</td>\n",
       "      <td>2</td>\n",
       "      <td>1.30</td>\n",
       "      <td>4.0</td>\n",
       "      <td>1.000</td>\n",
       "      <td>3.15</td>\n",
       "      <td>0.0</td>\n",
       "      <td>1700</td>\n",
       "      <td>9.9</td>\n",
       "    </tr>\n",
       "    <tr>\n",
       "      <th>2</th>\n",
       "      <td>40</td>\n",
       "      <td>1916</td>\n",
       "      <td>10</td>\n",
       "      <td>110.0</td>\n",
       "      <td>4.7</td>\n",
       "      <td>312</td>\n",
       "      <td>4</td>\n",
       "      <td>1.20</td>\n",
       "      <td>8.0</td>\n",
       "      <td>1.500</td>\n",
       "      <td>13.00</td>\n",
       "      <td>5.0</td>\n",
       "      <td>2000</td>\n",
       "      <td>7.6</td>\n",
       "    </tr>\n",
       "    <tr>\n",
       "      <th>3</th>\n",
       "      <td>99</td>\n",
       "      <td>1315</td>\n",
       "      <td>11</td>\n",
       "      <td>118.5</td>\n",
       "      <td>4.0</td>\n",
       "      <td>233</td>\n",
       "      <td>2</td>\n",
       "      <td>1.30</td>\n",
       "      <td>4.0</td>\n",
       "      <td>0.512</td>\n",
       "      <td>3.15</td>\n",
       "      <td>0.0</td>\n",
       "      <td>1400</td>\n",
       "      <td>11.0</td>\n",
       "    </tr>\n",
       "    <tr>\n",
       "      <th>4</th>\n",
       "      <td>880</td>\n",
       "      <td>1749</td>\n",
       "      <td>11</td>\n",
       "      <td>125.0</td>\n",
       "      <td>4.0</td>\n",
       "      <td>233</td>\n",
       "      <td>2</td>\n",
       "      <td>1.30</td>\n",
       "      <td>4.0</td>\n",
       "      <td>1.000</td>\n",
       "      <td>3.15</td>\n",
       "      <td>0.0</td>\n",
       "      <td>1700</td>\n",
       "      <td>9.9</td>\n",
       "    </tr>\n",
       "  </tbody>\n",
       "</table>\n",
       "</div>"
      ],
      "text/plain": [
       "   Product_id  Price  Sale  weight  resoloution  ppi  cpu_core  cpu_freq  \\\n",
       "0         203   2357    10   135.0          5.2  424         8      1.35   \n",
       "1         880   1749    10   125.0          4.0  233         2      1.30   \n",
       "2          40   1916    10   110.0          4.7  312         4      1.20   \n",
       "3          99   1315    11   118.5          4.0  233         2      1.30   \n",
       "4         880   1749    11   125.0          4.0  233         2      1.30   \n",
       "\n",
       "   internal_mem    ram  RearCam  Front_Cam  battery  thickness  \n",
       "0          16.0  3.000    13.00        8.0     2610        7.4  \n",
       "1           4.0  1.000     3.15        0.0     1700        9.9  \n",
       "2           8.0  1.500    13.00        5.0     2000        7.6  \n",
       "3           4.0  0.512     3.15        0.0     1400       11.0  \n",
       "4           4.0  1.000     3.15        0.0     1700        9.9  "
      ]
     },
     "execution_count": 2,
     "metadata": {},
     "output_type": "execute_result"
    }
   ],
   "source": [
    "cellphone_data = pd.read_csv('Cellphone.csv')\n",
    "cellphone_data.head()"
   ]
  },
  {
   "cell_type": "code",
   "execution_count": 3,
   "metadata": {},
   "outputs": [
    {
     "name": "stdout",
     "output_type": "stream",
     "text": [
      "<class 'pandas.core.frame.DataFrame'>\n",
      "RangeIndex: 161 entries, 0 to 160\n",
      "Data columns (total 14 columns):\n",
      " #   Column        Non-Null Count  Dtype  \n",
      "---  ------        --------------  -----  \n",
      " 0   Product_id    161 non-null    int64  \n",
      " 1   Price         161 non-null    int64  \n",
      " 2   Sale          161 non-null    int64  \n",
      " 3   weight        161 non-null    float64\n",
      " 4   resoloution   161 non-null    float64\n",
      " 5   ppi           161 non-null    int64  \n",
      " 6   cpu_core      161 non-null    int64  \n",
      " 7   cpu_freq      161 non-null    float64\n",
      " 8   internal_mem  161 non-null    float64\n",
      " 9   ram           161 non-null    float64\n",
      " 10  RearCam       161 non-null    float64\n",
      " 11  Front_Cam     161 non-null    float64\n",
      " 12  battery       161 non-null    int64  \n",
      " 13  thickness     161 non-null    float64\n",
      "dtypes: float64(8), int64(6)\n",
      "memory usage: 17.7 KB\n"
     ]
    }
   ],
   "source": [
    "cellphone_data.info()"
   ]
  },
  {
   "cell_type": "code",
   "execution_count": 4,
   "metadata": {},
   "outputs": [
    {
     "data": {
      "text/html": [
       "<div>\n",
       "<style scoped>\n",
       "    .dataframe tbody tr th:only-of-type {\n",
       "        vertical-align: middle;\n",
       "    }\n",
       "\n",
       "    .dataframe tbody tr th {\n",
       "        vertical-align: top;\n",
       "    }\n",
       "\n",
       "    .dataframe thead th {\n",
       "        text-align: right;\n",
       "    }\n",
       "</style>\n",
       "<table border=\"1\" class=\"dataframe\">\n",
       "  <thead>\n",
       "    <tr style=\"text-align: right;\">\n",
       "      <th></th>\n",
       "      <th>Product_id</th>\n",
       "      <th>Price</th>\n",
       "      <th>Sale</th>\n",
       "      <th>weight</th>\n",
       "      <th>resoloution</th>\n",
       "      <th>ppi</th>\n",
       "      <th>cpu_core</th>\n",
       "      <th>cpu_freq</th>\n",
       "      <th>internal_mem</th>\n",
       "      <th>ram</th>\n",
       "      <th>RearCam</th>\n",
       "      <th>Front_Cam</th>\n",
       "      <th>battery</th>\n",
       "      <th>thickness</th>\n",
       "    </tr>\n",
       "  </thead>\n",
       "  <tbody>\n",
       "    <tr>\n",
       "      <th>count</th>\n",
       "      <td>161.000000</td>\n",
       "      <td>161.000000</td>\n",
       "      <td>161.000000</td>\n",
       "      <td>161.000000</td>\n",
       "      <td>161.000000</td>\n",
       "      <td>161.000000</td>\n",
       "      <td>161.000000</td>\n",
       "      <td>161.000000</td>\n",
       "      <td>161.000000</td>\n",
       "      <td>161.000000</td>\n",
       "      <td>161.000000</td>\n",
       "      <td>161.000000</td>\n",
       "      <td>161.000000</td>\n",
       "      <td>161.000000</td>\n",
       "    </tr>\n",
       "    <tr>\n",
       "      <th>mean</th>\n",
       "      <td>675.559006</td>\n",
       "      <td>2215.596273</td>\n",
       "      <td>621.465839</td>\n",
       "      <td>170.426087</td>\n",
       "      <td>5.209938</td>\n",
       "      <td>335.055901</td>\n",
       "      <td>4.857143</td>\n",
       "      <td>1.502832</td>\n",
       "      <td>24.501714</td>\n",
       "      <td>2.204994</td>\n",
       "      <td>10.378261</td>\n",
       "      <td>4.503106</td>\n",
       "      <td>2842.111801</td>\n",
       "      <td>8.921739</td>\n",
       "    </tr>\n",
       "    <tr>\n",
       "      <th>std</th>\n",
       "      <td>410.851583</td>\n",
       "      <td>768.187171</td>\n",
       "      <td>1546.618517</td>\n",
       "      <td>92.888612</td>\n",
       "      <td>1.509953</td>\n",
       "      <td>134.826659</td>\n",
       "      <td>2.444016</td>\n",
       "      <td>0.599783</td>\n",
       "      <td>28.804773</td>\n",
       "      <td>1.609831</td>\n",
       "      <td>6.181585</td>\n",
       "      <td>4.342053</td>\n",
       "      <td>1366.990838</td>\n",
       "      <td>2.192564</td>\n",
       "    </tr>\n",
       "    <tr>\n",
       "      <th>min</th>\n",
       "      <td>10.000000</td>\n",
       "      <td>614.000000</td>\n",
       "      <td>10.000000</td>\n",
       "      <td>66.000000</td>\n",
       "      <td>1.400000</td>\n",
       "      <td>121.000000</td>\n",
       "      <td>0.000000</td>\n",
       "      <td>0.000000</td>\n",
       "      <td>0.000000</td>\n",
       "      <td>0.000000</td>\n",
       "      <td>0.000000</td>\n",
       "      <td>0.000000</td>\n",
       "      <td>800.000000</td>\n",
       "      <td>5.100000</td>\n",
       "    </tr>\n",
       "    <tr>\n",
       "      <th>25%</th>\n",
       "      <td>237.000000</td>\n",
       "      <td>1734.000000</td>\n",
       "      <td>37.000000</td>\n",
       "      <td>134.100000</td>\n",
       "      <td>4.800000</td>\n",
       "      <td>233.000000</td>\n",
       "      <td>4.000000</td>\n",
       "      <td>1.200000</td>\n",
       "      <td>8.000000</td>\n",
       "      <td>1.000000</td>\n",
       "      <td>5.000000</td>\n",
       "      <td>0.000000</td>\n",
       "      <td>2040.000000</td>\n",
       "      <td>7.600000</td>\n",
       "    </tr>\n",
       "    <tr>\n",
       "      <th>50%</th>\n",
       "      <td>774.000000</td>\n",
       "      <td>2258.000000</td>\n",
       "      <td>106.000000</td>\n",
       "      <td>153.000000</td>\n",
       "      <td>5.150000</td>\n",
       "      <td>294.000000</td>\n",
       "      <td>4.000000</td>\n",
       "      <td>1.400000</td>\n",
       "      <td>16.000000</td>\n",
       "      <td>2.000000</td>\n",
       "      <td>12.000000</td>\n",
       "      <td>5.000000</td>\n",
       "      <td>2800.000000</td>\n",
       "      <td>8.400000</td>\n",
       "    </tr>\n",
       "    <tr>\n",
       "      <th>75%</th>\n",
       "      <td>1026.000000</td>\n",
       "      <td>2744.000000</td>\n",
       "      <td>382.000000</td>\n",
       "      <td>170.000000</td>\n",
       "      <td>5.500000</td>\n",
       "      <td>428.000000</td>\n",
       "      <td>8.000000</td>\n",
       "      <td>1.875000</td>\n",
       "      <td>32.000000</td>\n",
       "      <td>3.000000</td>\n",
       "      <td>16.000000</td>\n",
       "      <td>8.000000</td>\n",
       "      <td>3240.000000</td>\n",
       "      <td>9.800000</td>\n",
       "    </tr>\n",
       "    <tr>\n",
       "      <th>max</th>\n",
       "      <td>1339.000000</td>\n",
       "      <td>4361.000000</td>\n",
       "      <td>9807.000000</td>\n",
       "      <td>753.000000</td>\n",
       "      <td>12.200000</td>\n",
       "      <td>806.000000</td>\n",
       "      <td>8.000000</td>\n",
       "      <td>2.700000</td>\n",
       "      <td>128.000000</td>\n",
       "      <td>6.000000</td>\n",
       "      <td>23.000000</td>\n",
       "      <td>20.000000</td>\n",
       "      <td>9500.000000</td>\n",
       "      <td>18.500000</td>\n",
       "    </tr>\n",
       "  </tbody>\n",
       "</table>\n",
       "</div>"
      ],
      "text/plain": [
       "        Product_id        Price         Sale      weight  resoloution  \\\n",
       "count   161.000000   161.000000   161.000000  161.000000   161.000000   \n",
       "mean    675.559006  2215.596273   621.465839  170.426087     5.209938   \n",
       "std     410.851583   768.187171  1546.618517   92.888612     1.509953   \n",
       "min      10.000000   614.000000    10.000000   66.000000     1.400000   \n",
       "25%     237.000000  1734.000000    37.000000  134.100000     4.800000   \n",
       "50%     774.000000  2258.000000   106.000000  153.000000     5.150000   \n",
       "75%    1026.000000  2744.000000   382.000000  170.000000     5.500000   \n",
       "max    1339.000000  4361.000000  9807.000000  753.000000    12.200000   \n",
       "\n",
       "              ppi    cpu_core    cpu_freq  internal_mem         ram  \\\n",
       "count  161.000000  161.000000  161.000000    161.000000  161.000000   \n",
       "mean   335.055901    4.857143    1.502832     24.501714    2.204994   \n",
       "std    134.826659    2.444016    0.599783     28.804773    1.609831   \n",
       "min    121.000000    0.000000    0.000000      0.000000    0.000000   \n",
       "25%    233.000000    4.000000    1.200000      8.000000    1.000000   \n",
       "50%    294.000000    4.000000    1.400000     16.000000    2.000000   \n",
       "75%    428.000000    8.000000    1.875000     32.000000    3.000000   \n",
       "max    806.000000    8.000000    2.700000    128.000000    6.000000   \n",
       "\n",
       "          RearCam   Front_Cam      battery   thickness  \n",
       "count  161.000000  161.000000   161.000000  161.000000  \n",
       "mean    10.378261    4.503106  2842.111801    8.921739  \n",
       "std      6.181585    4.342053  1366.990838    2.192564  \n",
       "min      0.000000    0.000000   800.000000    5.100000  \n",
       "25%      5.000000    0.000000  2040.000000    7.600000  \n",
       "50%     12.000000    5.000000  2800.000000    8.400000  \n",
       "75%     16.000000    8.000000  3240.000000    9.800000  \n",
       "max     23.000000   20.000000  9500.000000   18.500000  "
      ]
     },
     "execution_count": 4,
     "metadata": {},
     "output_type": "execute_result"
    }
   ],
   "source": [
    "cellphone_data.describe()"
   ]
  },
  {
   "cell_type": "code",
   "execution_count": 5,
   "metadata": {},
   "outputs": [
    {
     "data": {
      "text/plain": [
       "<seaborn.axisgrid.FacetGrid at 0x20a470a5b50>"
      ]
     },
     "execution_count": 5,
     "metadata": {},
     "output_type": "execute_result"
    },
    {
     "data": {
      "image/png": "[encoded data removed]",
      "text/plain": [
       "<Figure size 360x360 with 1 Axes>"
      ]
     },
     "metadata": {
      "needs_background": "light"
     },
     "output_type": "display_data"
    }
   ],
   "source": [
    "sns.displot(cellphone_data, x='Price')"
   ]
  },
  {
   "cell_type": "markdown",
   "metadata": {},
   "source": [
    "## Is there a relationship between predictors and outcome?"
   ]
  },
  {
   "cell_type": "markdown",
   "metadata": {},
   "source": [
    "### Estimating coefficients"
   ]
  },
  {
   "cell_type": "code",
   "execution_count": 6,
   "metadata": {},
   "outputs": [
    {
     "data": {
      "text/html": [
       "<div>\n",
       "<style scoped>\n",
       "    .dataframe tbody tr th:only-of-type {\n",
       "        vertical-align: middle;\n",
       "    }\n",
       "\n",
       "    .dataframe tbody tr th {\n",
       "        vertical-align: top;\n",
       "    }\n",
       "\n",
       "    .dataframe thead th {\n",
       "        text-align: right;\n",
       "    }\n",
       "</style>\n",
       "<table border=\"1\" class=\"dataframe\">\n",
       "  <thead>\n",
       "    <tr style=\"text-align: right;\">\n",
       "      <th></th>\n",
       "      <th>Sale</th>\n",
       "      <th>weight</th>\n",
       "      <th>resoloution</th>\n",
       "      <th>ppi</th>\n",
       "      <th>cpu_core</th>\n",
       "      <th>cpu_freq</th>\n",
       "      <th>internal_mem</th>\n",
       "      <th>ram</th>\n",
       "      <th>RearCam</th>\n",
       "      <th>Front_Cam</th>\n",
       "      <th>battery</th>\n",
       "      <th>thickness</th>\n",
       "    </tr>\n",
       "  </thead>\n",
       "  <tbody>\n",
       "    <tr>\n",
       "      <th>0</th>\n",
       "      <td>10</td>\n",
       "      <td>135.0</td>\n",
       "      <td>5.2</td>\n",
       "      <td>424</td>\n",
       "      <td>8</td>\n",
       "      <td>1.35</td>\n",
       "      <td>16.0</td>\n",
       "      <td>3.000</td>\n",
       "      <td>13.00</td>\n",
       "      <td>8.0</td>\n",
       "      <td>2610</td>\n",
       "      <td>7.4</td>\n",
       "    </tr>\n",
       "    <tr>\n",
       "      <th>1</th>\n",
       "      <td>10</td>\n",
       "      <td>125.0</td>\n",
       "      <td>4.0</td>\n",
       "      <td>233</td>\n",
       "      <td>2</td>\n",
       "      <td>1.30</td>\n",
       "      <td>4.0</td>\n",
       "      <td>1.000</td>\n",
       "      <td>3.15</td>\n",
       "      <td>0.0</td>\n",
       "      <td>1700</td>\n",
       "      <td>9.9</td>\n",
       "    </tr>\n",
       "    <tr>\n",
       "      <th>2</th>\n",
       "      <td>10</td>\n",
       "      <td>110.0</td>\n",
       "      <td>4.7</td>\n",
       "      <td>312</td>\n",
       "      <td>4</td>\n",
       "      <td>1.20</td>\n",
       "      <td>8.0</td>\n",
       "      <td>1.500</td>\n",
       "      <td>13.00</td>\n",
       "      <td>5.0</td>\n",
       "      <td>2000</td>\n",
       "      <td>7.6</td>\n",
       "    </tr>\n",
       "    <tr>\n",
       "      <th>3</th>\n",
       "      <td>11</td>\n",
       "      <td>118.5</td>\n",
       "      <td>4.0</td>\n",
       "      <td>233</td>\n",
       "      <td>2</td>\n",
       "      <td>1.30</td>\n",
       "      <td>4.0</td>\n",
       "      <td>0.512</td>\n",
       "      <td>3.15</td>\n",
       "      <td>0.0</td>\n",
       "      <td>1400</td>\n",
       "      <td>11.0</td>\n",
       "    </tr>\n",
       "    <tr>\n",
       "      <th>4</th>\n",
       "      <td>11</td>\n",
       "      <td>125.0</td>\n",
       "      <td>4.0</td>\n",
       "      <td>233</td>\n",
       "      <td>2</td>\n",
       "      <td>1.30</td>\n",
       "      <td>4.0</td>\n",
       "      <td>1.000</td>\n",
       "      <td>3.15</td>\n",
       "      <td>0.0</td>\n",
       "      <td>1700</td>\n",
       "      <td>9.9</td>\n",
       "    </tr>\n",
       "  </tbody>\n",
       "</table>\n",
       "</div>"
      ],
      "text/plain": [
       "   Sale  weight  resoloution  ppi  cpu_core  cpu_freq  internal_mem    ram  \\\n",
       "0    10   135.0          5.2  424         8      1.35          16.0  3.000   \n",
       "1    10   125.0          4.0  233         2      1.30           4.0  1.000   \n",
       "2    10   110.0          4.7  312         4      1.20           8.0  1.500   \n",
       "3    11   118.5          4.0  233         2      1.30           4.0  0.512   \n",
       "4    11   125.0          4.0  233         2      1.30           4.0  1.000   \n",
       "\n",
       "   RearCam  Front_Cam  battery  thickness  \n",
       "0    13.00        8.0     2610        7.4  \n",
       "1     3.15        0.0     1700        9.9  \n",
       "2    13.00        5.0     2000        7.6  \n",
       "3     3.15        0.0     1400       11.0  \n",
       "4     3.15        0.0     1700        9.9  "
      ]
     },
     "execution_count": 6,
     "metadata": {},
     "output_type": "execute_result"
    }
   ],
   "source": [
    "Y = cellphone_data['Price']\n",
    "X = cellphone_data.drop(columns=['Price','Product_id'])\n",
    "X.head()"
   ]
  },
  {
   "cell_type": "code",
   "execution_count": 7,
   "metadata": {},
   "outputs": [
    {
     "data": {
      "text/html": [
       "<div>\n",
       "<style scoped>\n",
       "    .dataframe tbody tr th:only-of-type {\n",
       "        vertical-align: middle;\n",
       "    }\n",
       "\n",
       "    .dataframe tbody tr th {\n",
       "        vertical-align: top;\n",
       "    }\n",
       "\n",
       "    .dataframe thead th {\n",
       "        text-align: right;\n",
       "    }\n",
       "</style>\n",
       "<table border=\"1\" class=\"dataframe\">\n",
       "  <thead>\n",
       "    <tr style=\"text-align: right;\">\n",
       "      <th></th>\n",
       "      <th>const</th>\n",
       "      <th>Sale</th>\n",
       "      <th>weight</th>\n",
       "      <th>resoloution</th>\n",
       "      <th>ppi</th>\n",
       "      <th>cpu_core</th>\n",
       "      <th>cpu_freq</th>\n",
       "      <th>internal_mem</th>\n",
       "      <th>ram</th>\n",
       "      <th>RearCam</th>\n",
       "      <th>Front_Cam</th>\n",
       "      <th>battery</th>\n",
       "      <th>thickness</th>\n",
       "    </tr>\n",
       "  </thead>\n",
       "  <tbody>\n",
       "    <tr>\n",
       "      <th>0</th>\n",
       "      <td>1.0</td>\n",
       "      <td>10</td>\n",
       "      <td>135.0</td>\n",
       "      <td>5.2</td>\n",
       "      <td>424</td>\n",
       "      <td>8</td>\n",
       "      <td>1.35</td>\n",
       "      <td>16.0</td>\n",
       "      <td>3.000</td>\n",
       "      <td>13.00</td>\n",
       "      <td>8.0</td>\n",
       "      <td>2610</td>\n",
       "      <td>7.4</td>\n",
       "    </tr>\n",
       "    <tr>\n",
       "      <th>1</th>\n",
       "      <td>1.0</td>\n",
       "      <td>10</td>\n",
       "      <td>125.0</td>\n",
       "      <td>4.0</td>\n",
       "      <td>233</td>\n",
       "      <td>2</td>\n",
       "      <td>1.30</td>\n",
       "      <td>4.0</td>\n",
       "      <td>1.000</td>\n",
       "      <td>3.15</td>\n",
       "      <td>0.0</td>\n",
       "      <td>1700</td>\n",
       "      <td>9.9</td>\n",
       "    </tr>\n",
       "    <tr>\n",
       "      <th>2</th>\n",
       "      <td>1.0</td>\n",
       "      <td>10</td>\n",
       "      <td>110.0</td>\n",
       "      <td>4.7</td>\n",
       "      <td>312</td>\n",
       "      <td>4</td>\n",
       "      <td>1.20</td>\n",
       "      <td>8.0</td>\n",
       "      <td>1.500</td>\n",
       "      <td>13.00</td>\n",
       "      <td>5.0</td>\n",
       "      <td>2000</td>\n",
       "      <td>7.6</td>\n",
       "    </tr>\n",
       "    <tr>\n",
       "      <th>3</th>\n",
       "      <td>1.0</td>\n",
       "      <td>11</td>\n",
       "      <td>118.5</td>\n",
       "      <td>4.0</td>\n",
       "      <td>233</td>\n",
       "      <td>2</td>\n",
       "      <td>1.30</td>\n",
       "      <td>4.0</td>\n",
       "      <td>0.512</td>\n",
       "      <td>3.15</td>\n",
       "      <td>0.0</td>\n",
       "      <td>1400</td>\n",
       "      <td>11.0</td>\n",
       "    </tr>\n",
       "    <tr>\n",
       "      <th>4</th>\n",
       "      <td>1.0</td>\n",
       "      <td>11</td>\n",
       "      <td>125.0</td>\n",
       "      <td>4.0</td>\n",
       "      <td>233</td>\n",
       "      <td>2</td>\n",
       "      <td>1.30</td>\n",
       "      <td>4.0</td>\n",
       "      <td>1.000</td>\n",
       "      <td>3.15</td>\n",
       "      <td>0.0</td>\n",
       "      <td>1700</td>\n",
       "      <td>9.9</td>\n",
       "    </tr>\n",
       "  </tbody>\n",
       "</table>\n",
       "</div>"
      ],
      "text/plain": [
       "   const  Sale  weight  resoloution  ppi  cpu_core  cpu_freq  internal_mem  \\\n",
       "0    1.0    10   135.0          5.2  424         8      1.35          16.0   \n",
       "1    1.0    10   125.0          4.0  233         2      1.30           4.0   \n",
       "2    1.0    10   110.0          4.7  312         4      1.20           8.0   \n",
       "3    1.0    11   118.5          4.0  233         2      1.30           4.0   \n",
       "4    1.0    11   125.0          4.0  233         2      1.30           4.0   \n",
       "\n",
       "     ram  RearCam  Front_Cam  battery  thickness  \n",
       "0  3.000    13.00        8.0     2610        7.4  \n",
       "1  1.000     3.15        0.0     1700        9.9  \n",
       "2  1.500    13.00        5.0     2000        7.6  \n",
       "3  0.512     3.15        0.0     1400       11.0  \n",
       "4  1.000     3.15        0.0     1700        9.9  "
      ]
     },
     "execution_count": 7,
     "metadata": {},
     "output_type": "execute_result"
    }
   ],
   "source": [
    "X = sm.add_constant(X) #to add an intercept\n",
    "X.head()"
   ]
  },
  {
   "cell_type": "code",
   "execution_count": 8,
   "metadata": {},
   "outputs": [
    {
     "data": {
      "text/html": [
       "<table class=\"simpletable\">\n",
       "<caption>OLS Regression Results</caption>\n",
       "<tr>\n",
       "  <th>Dep. Variable:</th>          <td>Price</td>      <th>  R-squared:         </th> <td>   0.954</td>\n",
       "</tr>\n",
       "<tr>\n",
       "  <th>Model:</th>                   <td>OLS</td>       <th>  Adj. R-squared:    </th> <td>   0.950</td>\n",
       "</tr>\n",
       "<tr>\n",
       "  <th>Method:</th>             <td>Least Squares</td>  <th>  F-statistic:       </th> <td>   256.2</td>\n",
       "</tr>\n",
       "<tr>\n",
       "  <th>Date:</th>             <td>Sat, 08 Apr 2023</td> <th>  Prob (F-statistic):</th> <td>1.74e-92</td>\n",
       "</tr>\n",
       "<tr>\n",
       "  <th>Time:</th>                 <td>12:55:21</td>     <th>  Log-Likelihood:    </th> <td> -1049.6</td>\n",
       "</tr>\n",
       "<tr>\n",
       "  <th>No. Observations:</th>      <td>   161</td>      <th>  AIC:               </th> <td>   2125.</td>\n",
       "</tr>\n",
       "<tr>\n",
       "  <th>Df Residuals:</th>          <td>   148</td>      <th>  BIC:               </th> <td>   2165.</td>\n",
       "</tr>\n",
       "<tr>\n",
       "  <th>Df Model:</th>              <td>    12</td>      <th>                     </th>     <td> </td>   \n",
       "</tr>\n",
       "<tr>\n",
       "  <th>Covariance Type:</th>      <td>nonrobust</td>    <th>                     </th>     <td> </td>   \n",
       "</tr>\n",
       "</table>\n",
       "<table class=\"simpletable\">\n",
       "<tr>\n",
       "        <td></td>          <th>coef</th>     <th>std err</th>      <th>t</th>      <th>P>|t|</th>  <th>[0.025</th>    <th>0.975]</th>  \n",
       "</tr>\n",
       "<tr>\n",
       "  <th>const</th>        <td> 1749.5509</td> <td>  215.926</td> <td>    8.103</td> <td> 0.000</td> <td> 1322.855</td> <td> 2176.247</td>\n",
       "</tr>\n",
       "<tr>\n",
       "  <th>Sale</th>         <td>   -0.0227</td> <td>    0.012</td> <td>   -1.959</td> <td> 0.052</td> <td>   -0.046</td> <td>    0.000</td>\n",
       "</tr>\n",
       "<tr>\n",
       "  <th>weight</th>       <td>   -0.3796</td> <td>    0.694</td> <td>   -0.547</td> <td> 0.585</td> <td>   -1.751</td> <td>    0.992</td>\n",
       "</tr>\n",
       "<tr>\n",
       "  <th>resoloution</th>  <td>  -77.5920</td> <td>   42.253</td> <td>   -1.836</td> <td> 0.068</td> <td> -161.090</td> <td>    5.906</td>\n",
       "</tr>\n",
       "<tr>\n",
       "  <th>ppi</th>          <td>    1.0057</td> <td>    0.217</td> <td>    4.633</td> <td> 0.000</td> <td>    0.577</td> <td>    1.435</td>\n",
       "</tr>\n",
       "<tr>\n",
       "  <th>cpu_core</th>     <td>   53.9809</td> <td>    9.758</td> <td>    5.532</td> <td> 0.000</td> <td>   34.699</td> <td>   73.263</td>\n",
       "</tr>\n",
       "<tr>\n",
       "  <th>cpu_freq</th>     <td>  131.8916</td> <td>   44.528</td> <td>    2.962</td> <td> 0.004</td> <td>   43.899</td> <td>  219.884</td>\n",
       "</tr>\n",
       "<tr>\n",
       "  <th>internal_mem</th> <td>    6.2499</td> <td>    1.225</td> <td>    5.100</td> <td> 0.000</td> <td>    3.828</td> <td>    8.672</td>\n",
       "</tr>\n",
       "<tr>\n",
       "  <th>ram</th>          <td>   93.2032</td> <td>   25.619</td> <td>    3.638</td> <td> 0.000</td> <td>   42.577</td> <td>  143.829</td>\n",
       "</tr>\n",
       "<tr>\n",
       "  <th>RearCam</th>      <td>    5.0453</td> <td>    4.332</td> <td>    1.165</td> <td> 0.246</td> <td>   -3.515</td> <td>   13.605</td>\n",
       "</tr>\n",
       "<tr>\n",
       "  <th>Front_Cam</th>    <td>    8.9684</td> <td>    5.195</td> <td>    1.726</td> <td> 0.086</td> <td>   -1.297</td> <td>   19.234</td>\n",
       "</tr>\n",
       "<tr>\n",
       "  <th>battery</th>      <td>    0.1259</td> <td>    0.030</td> <td>    4.140</td> <td> 0.000</td> <td>    0.066</td> <td>    0.186</td>\n",
       "</tr>\n",
       "<tr>\n",
       "  <th>thickness</th>    <td>  -73.6888</td> <td>   12.475</td> <td>   -5.907</td> <td> 0.000</td> <td>  -98.342</td> <td>  -49.036</td>\n",
       "</tr>\n",
       "</table>\n",
       "<table class=\"simpletable\">\n",
       "<tr>\n",
       "  <th>Omnibus:</th>       <td> 1.123</td> <th>  Durbin-Watson:     </th> <td>   2.131</td>\n",
       "</tr>\n",
       "<tr>\n",
       "  <th>Prob(Omnibus):</th> <td> 0.570</td> <th>  Jarque-Bera (JB):  </th> <td>   1.071</td>\n",
       "</tr>\n",
       "<tr>\n",
       "  <th>Skew:</th>          <td> 0.036</td> <th>  Prob(JB):          </th> <td>   0.585</td>\n",
       "</tr>\n",
       "<tr>\n",
       "  <th>Kurtosis:</th>      <td> 2.607</td> <th>  Cond. No.          </th> <td>5.28e+04</td>\n",
       "</tr>\n",
       "</table><br/><br/>Notes:<br/>[1] Standard Errors assume that the covariance matrix of the errors is correctly specified.<br/>[2] The condition number is large, 5.28e+04. This might indicate that there are<br/>strong multicollinearity or other numerical problems."
      ],
      "text/plain": [
       "<class 'statsmodels.iolib.summary.Summary'>\n",
       "\"\"\"\n",
       "                            OLS Regression Results                            \n",
       "==============================================================================\n",
       "Dep. Variable:                  Price   R-squared:                       0.954\n",
       "Model:                            OLS   Adj. R-squared:                  0.950\n",
       "Method:                 Least Squares   F-statistic:                     256.2\n",
       "Date:                Sat, 08 Apr 2023   Prob (F-statistic):           1.74e-92\n",
       "Time:                        12:55:21   Log-Likelihood:                -1049.6\n",
       "No. Observations:                 161   AIC:                             2125.\n",
       "Df Residuals:                     148   BIC:                             2165.\n",
       "Df Model:                          12                                         \n",
       "Covariance Type:            nonrobust                                         \n",
       "================================================================================\n",
       "                   coef    std err          t      P>|t|      [0.025      0.975]\n",
       "--------------------------------------------------------------------------------\n",
       "const         1749.5509    215.926      8.103      0.000    1322.855    2176.247\n",
       "Sale            -0.0227      0.012     -1.959      0.052      -0.046       0.000\n",
       "weight          -0.3796      0.694     -0.547      0.585      -1.751       0.992\n",
       "resoloution    -77.5920     42.253     -1.836      0.068    -161.090       5.906\n",
       "ppi              1.0057      0.217      4.633      0.000       0.577       1.435\n",
       "cpu_core        53.9809      9.758      5.532      0.000      34.699      73.263\n",
       "cpu_freq       131.8916     44.528      2.962      0.004      43.899     219.884\n",
       "internal_mem     6.2499      1.225      5.100      0.000       3.828       8.672\n",
       "ram             93.2032     25.619      3.638      0.000      42.577     143.829\n",
       "RearCam          5.0453      4.332      1.165      0.246      -3.515      13.605\n",
       "Front_Cam        8.9684      5.195      1.726      0.086      -1.297      19.234\n",
       "battery          0.1259      0.030      4.140      0.000       0.066       0.186\n",
       "thickness      -73.6888     12.475     -5.907      0.000     -98.342     -49.036\n",
       "==============================================================================\n",
       "Omnibus:                        1.123   Durbin-Watson:                   2.131\n",
       "Prob(Omnibus):                  0.570   Jarque-Bera (JB):                1.071\n",
       "Skew:                           0.036   Prob(JB):                        0.585\n",
       "Kurtosis:                       2.607   Cond. No.                     5.28e+04\n",
       "==============================================================================\n",
       "\n",
       "Notes:\n",
       "[1] Standard Errors assume that the covariance matrix of the errors is correctly specified.\n",
       "[2] The condition number is large, 5.28e+04. This might indicate that there are\n",
       "strong multicollinearity or other numerical problems.\n",
       "\"\"\""
      ]
     },
     "execution_count": 8,
     "metadata": {},
     "output_type": "execute_result"
    }
   ],
   "source": [
    "model = sm.OLS(Y, X)\n",
    "result = model.fit()\n",
    "result.summary()"
   ]
  },
  {
   "cell_type": "markdown",
   "metadata": {},
   "source": [
    "**F-statistic value is greater than 1. Therefore we can reject the null hypothesis.**"
   ]
  },
  {
   "cell_type": "markdown",
   "metadata": {},
   "source": [
    "## Can we model the relationship? "
   ]
  },
  {
   "cell_type": "markdown",
   "metadata": {},
   "source": [
    "### Accessing Model Accuracy "
   ]
  },
  {
   "cell_type": "markdown",
   "metadata": {},
   "source": [
    "An R2 value clode to 1 indicates that the model explains a large portion of the variance in the response variable."
   ]
  },
  {
   "cell_type": "code",
   "execution_count": 9,
   "metadata": {},
   "outputs": [
    {
     "data": {
      "text/plain": [
       "(0.9540797662196177, 0.9503565040212083)"
      ]
     },
     "execution_count": 9,
     "metadata": {},
     "output_type": "execute_result"
    }
   ],
   "source": [
    "#R2\n",
    "result.rsquared, result.rsquared_adj"
   ]
  },
  {
   "cell_type": "markdown",
   "metadata": {},
   "source": [
    "## How are the predictors related to outcome?"
   ]
  },
  {
   "cell_type": "markdown",
   "metadata": {},
   "source": [
    "### Accessing coefficients accuracy "
   ]
  },
  {
   "cell_type": "code",
   "execution_count": 10,
   "metadata": {},
   "outputs": [
    {
     "data": {
      "text/plain": [
       "const           215.926030\n",
       "Sale              0.011610\n",
       "weight            0.694179\n",
       "resoloution      42.253453\n",
       "ppi               0.217058\n",
       "cpu_core          9.757502\n",
       "cpu_freq         44.527837\n",
       "internal_mem      1.225476\n",
       "ram              25.618878\n",
       "RearCam           4.331663\n",
       "Front_Cam         5.194611\n",
       "battery           0.030408\n",
       "thickness        12.475288\n",
       "dtype: float64"
      ]
     },
     "execution_count": 10,
     "metadata": {},
     "output_type": "execute_result"
    }
   ],
   "source": [
    "#standard error: a measure of average amount by which the estimated coefficients differ from the actual value \n",
    "result.bse"
   ]
  },
  {
   "cell_type": "code",
   "execution_count": 11,
   "metadata": {},
   "outputs": [
    {
     "data": {
      "text/plain": [
       "const           8.102548\n",
       "Sale           -1.959205\n",
       "weight         -0.546882\n",
       "resoloution    -1.836348\n",
       "ppi             4.633413\n",
       "cpu_core        5.532245\n",
       "cpu_freq        2.962004\n",
       "internal_mem    5.100000\n",
       "ram             3.638067\n",
       "RearCam         1.164746\n",
       "Front_Cam       1.726481\n",
       "battery         4.140021\n",
       "thickness      -5.906783\n",
       "dtype: float64"
      ]
     },
     "execution_count": 11,
     "metadata": {},
     "output_type": "execute_result"
    }
   ],
   "source": [
    "#t-values: a measurement of the precision with which the coefficients were measured. \n",
    "#low std error compared to a high coefficient produces a high t statistic, which signifies a high significance for the coefficient.\n",
    "result.tvalues"
   ]
  },
  {
   "cell_type": "code",
   "execution_count": 12,
   "metadata": {},
   "outputs": [
    {
     "data": {
      "text/plain": [
       "const           1.849975e-13\n",
       "Sale            5.196796e-02\n",
       "weight          5.852833e-01\n",
       "resoloution     6.831271e-02\n",
       "ppi             7.823703e-06\n",
       "cpu_core        1.397003e-07\n",
       "cpu_freq        3.561910e-03\n",
       "internal_mem    1.024487e-06\n",
       "ram             3.787262e-04\n",
       "RearCam         2.459958e-01\n",
       "Front_Cam       8.634756e-02\n",
       "battery         5.809884e-05\n",
       "thickness       2.299268e-08\n",
       "dtype: float64"
      ]
     },
     "execution_count": 12,
     "metadata": {},
     "output_type": "execute_result"
    }
   ],
   "source": [
    "#p-values: a measurement of how likely the coefficients are measured through the model by chance\n",
    "#a small p-value indicates that it is unlikely to observe such a substantial association between the predictor and the response due to chance\n",
    "result.pvalues"
   ]
  },
  {
   "cell_type": "markdown",
   "metadata": {},
   "source": [
    "**Some of the coefficients have p-values greater than 0.05. This shows that the response is only associated with a subset of predictors.** "
   ]
  },
  {
   "cell_type": "markdown",
   "metadata": {},
   "source": [
    "### Variable Selection"
   ]
  },
  {
   "cell_type": "code",
   "execution_count": 13,
   "metadata": {},
   "outputs": [
    {
     "data": {
      "text/plain": [
       "Index(['Product_id', 'Price', 'Sale', 'weight', 'resoloution', 'ppi',\n",
       "       'cpu_core', 'cpu_freq', 'internal_mem', 'ram', 'RearCam', 'Front_Cam',\n",
       "       'battery', 'thickness'],\n",
       "      dtype='object')"
      ]
     },
     "execution_count": 13,
     "metadata": {},
     "output_type": "execute_result"
    }
   ],
   "source": [
    "cellphone_data.columns"
   ]
  },
  {
   "cell_type": "code",
   "execution_count": 14,
   "metadata": {},
   "outputs": [],
   "source": [
    "def train_model(data, response, predictors):\n",
    "    Y = data[response]\n",
    "    X = data[predictors]\n",
    "    X = sm.add_constant(X)\n",
    "    model = sm.OLS(Y, X)\n",
    "    result = model.fit()\n",
    "    return result, model"
   ]
  },
  {
   "cell_type": "code",
   "execution_count": 15,
   "metadata": {},
   "outputs": [],
   "source": [
    "def backward_selection(data, response, predictors, result):\n",
    "    drop_columns = []\n",
    "    while True:\n",
    "        pvalues = result.pvalues\n",
    "        max_value = 0\n",
    "        max_key = -1\n",
    "        for k in pvalues.keys():\n",
    "            if pvalues[k] > max_value and pvalues[k] >= 0.05 and k != 'const':\n",
    "                max_value = pvalues[k]\n",
    "                max_key = k\n",
    "\n",
    "        if max_key != -1:\n",
    "            drop_columns.append(max_key)\n",
    "            new_predictors = [x for x in predictors if x not in drop_columns]\n",
    "            result,_ = train_model(cellphone_data, response, new_predictors)\n",
    "        else:\n",
    "            break\n",
    "    \n",
    "    return drop_columns"
   ]
  },
  {
   "cell_type": "code",
   "execution_count": 16,
   "metadata": {},
   "outputs": [],
   "source": [
    "columns = ['Sale', 'weight', 'resoloution', 'ppi',\n",
    "       'cpu_core', 'cpu_freq', 'internal_mem', 'ram', 'RearCam', 'Front_Cam',\n",
    "       'battery', 'thickness']\n",
    "\n",
    "final_predictors = []\n",
    "drop_columns = []\n",
    "for k in range(len(columns)):\n",
    "    best_result = 0\n",
    "    best_predictors = []\n",
    "    \n",
    "    for col in columns:\n",
    "        new_predictors = final_predictors.copy()\n",
    "        if col in new_predictors or col in drop_columns:\n",
    "            continue\n",
    "        \n",
    "        new_predictors.append(col)\n",
    "        result,_ = train_model(cellphone_data, 'Price', new_predictors)\n",
    "    \n",
    "        if len(best_predictors) == 0 or best_result.ssr > result.ssr:\n",
    "            best_result = result\n",
    "            best_predictors = new_predictors\n",
    "    \n",
    "\n",
    "    drop_columns.extend(backward_selection(cellphone_data, 'Price', best_predictors, best_result))\n",
    "    \n",
    "    final_predictors = [x for x in best_predictors if x not in drop_columns]\n",
    "        \n",
    "    "
   ]
  },
  {
   "cell_type": "code",
   "execution_count": 17,
   "metadata": {},
   "outputs": [
    {
     "data": {
      "text/plain": [
       "['ram', 'thickness', 'ppi', 'cpu_core', 'internal_mem', 'cpu_freq']"
      ]
     },
     "execution_count": 17,
     "metadata": {},
     "output_type": "execute_result"
    }
   ],
   "source": [
    "final_predictors"
   ]
  },
  {
   "cell_type": "code",
   "execution_count": 18,
   "metadata": {},
   "outputs": [
    {
     "data": {
      "text/html": [
       "<table class=\"simpletable\">\n",
       "<caption>OLS Regression Results</caption>\n",
       "<tr>\n",
       "  <th>Dep. Variable:</th>          <td>Price</td>      <th>  R-squared:         </th> <td>   0.945</td>\n",
       "</tr>\n",
       "<tr>\n",
       "  <th>Model:</th>                   <td>OLS</td>       <th>  Adj. R-squared:    </th> <td>   0.942</td>\n",
       "</tr>\n",
       "<tr>\n",
       "  <th>Method:</th>             <td>Least Squares</td>  <th>  F-statistic:       </th> <td>   437.9</td>\n",
       "</tr>\n",
       "<tr>\n",
       "  <th>Date:</th>             <td>Sat, 08 Apr 2023</td> <th>  Prob (F-statistic):</th> <td>4.65e-94</td>\n",
       "</tr>\n",
       "<tr>\n",
       "  <th>Time:</th>                 <td>12:55:21</td>     <th>  Log-Likelihood:    </th> <td> -1064.7</td>\n",
       "</tr>\n",
       "<tr>\n",
       "  <th>No. Observations:</th>      <td>   161</td>      <th>  AIC:               </th> <td>   2143.</td>\n",
       "</tr>\n",
       "<tr>\n",
       "  <th>Df Residuals:</th>          <td>   154</td>      <th>  BIC:               </th> <td>   2165.</td>\n",
       "</tr>\n",
       "<tr>\n",
       "  <th>Df Model:</th>              <td>     6</td>      <th>                     </th>     <td> </td>   \n",
       "</tr>\n",
       "<tr>\n",
       "  <th>Covariance Type:</th>      <td>nonrobust</td>    <th>                     </th>     <td> </td>   \n",
       "</tr>\n",
       "</table>\n",
       "<table class=\"simpletable\">\n",
       "<tr>\n",
       "        <td></td>          <th>coef</th>     <th>std err</th>      <th>t</th>      <th>P>|t|</th>  <th>[0.025</th>    <th>0.975]</th>  \n",
       "</tr>\n",
       "<tr>\n",
       "  <th>const</th>        <td> 1427.6568</td> <td>  142.541</td> <td>   10.016</td> <td> 0.000</td> <td> 1146.070</td> <td> 1709.244</td>\n",
       "</tr>\n",
       "<tr>\n",
       "  <th>ram</th>          <td>  136.6606</td> <td>   25.241</td> <td>    5.414</td> <td> 0.000</td> <td>   86.798</td> <td>  186.523</td>\n",
       "</tr>\n",
       "<tr>\n",
       "  <th>thickness</th>    <td>  -61.4332</td> <td>   10.418</td> <td>   -5.897</td> <td> 0.000</td> <td>  -82.013</td> <td>  -40.853</td>\n",
       "</tr>\n",
       "<tr>\n",
       "  <th>ppi</th>          <td>    1.1617</td> <td>    0.186</td> <td>    6.232</td> <td> 0.000</td> <td>    0.793</td> <td>    1.530</td>\n",
       "</tr>\n",
       "<tr>\n",
       "  <th>cpu_core</th>     <td>   69.8081</td> <td>    8.947</td> <td>    7.803</td> <td> 0.000</td> <td>   52.134</td> <td>   87.482</td>\n",
       "</tr>\n",
       "<tr>\n",
       "  <th>internal_mem</th> <td>    6.3958</td> <td>    1.152</td> <td>    5.552</td> <td> 0.000</td> <td>    4.120</td> <td>    8.671</td>\n",
       "</tr>\n",
       "<tr>\n",
       "  <th>cpu_freq</th>     <td>   99.6060</td> <td>   39.868</td> <td>    2.498</td> <td> 0.014</td> <td>   20.848</td> <td>  178.364</td>\n",
       "</tr>\n",
       "</table>\n",
       "<table class=\"simpletable\">\n",
       "<tr>\n",
       "  <th>Omnibus:</th>       <td> 0.415</td> <th>  Durbin-Watson:     </th> <td>   1.978</td>\n",
       "</tr>\n",
       "<tr>\n",
       "  <th>Prob(Omnibus):</th> <td> 0.813</td> <th>  Jarque-Bera (JB):  </th> <td>   0.351</td>\n",
       "</tr>\n",
       "<tr>\n",
       "  <th>Skew:</th>          <td> 0.114</td> <th>  Prob(JB):          </th> <td>   0.839</td>\n",
       "</tr>\n",
       "<tr>\n",
       "  <th>Kurtosis:</th>      <td> 2.977</td> <th>  Cond. No.          </th> <td>3.60e+03</td>\n",
       "</tr>\n",
       "</table><br/><br/>Notes:<br/>[1] Standard Errors assume that the covariance matrix of the errors is correctly specified.<br/>[2] The condition number is large, 3.6e+03. This might indicate that there are<br/>strong multicollinearity or other numerical problems."
      ],
      "text/plain": [
       "<class 'statsmodels.iolib.summary.Summary'>\n",
       "\"\"\"\n",
       "                            OLS Regression Results                            \n",
       "==============================================================================\n",
       "Dep. Variable:                  Price   R-squared:                       0.945\n",
       "Model:                            OLS   Adj. R-squared:                  0.942\n",
       "Method:                 Least Squares   F-statistic:                     437.9\n",
       "Date:                Sat, 08 Apr 2023   Prob (F-statistic):           4.65e-94\n",
       "Time:                        12:55:21   Log-Likelihood:                -1064.7\n",
       "No. Observations:                 161   AIC:                             2143.\n",
       "Df Residuals:                     154   BIC:                             2165.\n",
       "Df Model:                           6                                         \n",
       "Covariance Type:            nonrobust                                         \n",
       "================================================================================\n",
       "                   coef    std err          t      P>|t|      [0.025      0.975]\n",
       "--------------------------------------------------------------------------------\n",
       "const         1427.6568    142.541     10.016      0.000    1146.070    1709.244\n",
       "ram            136.6606     25.241      5.414      0.000      86.798     186.523\n",
       "thickness      -61.4332     10.418     -5.897      0.000     -82.013     -40.853\n",
       "ppi              1.1617      0.186      6.232      0.000       0.793       1.530\n",
       "cpu_core        69.8081      8.947      7.803      0.000      52.134      87.482\n",
       "internal_mem     6.3958      1.152      5.552      0.000       4.120       8.671\n",
       "cpu_freq        99.6060     39.868      2.498      0.014      20.848     178.364\n",
       "==============================================================================\n",
       "Omnibus:                        0.415   Durbin-Watson:                   1.978\n",
       "Prob(Omnibus):                  0.813   Jarque-Bera (JB):                0.351\n",
       "Skew:                           0.114   Prob(JB):                        0.839\n",
       "Kurtosis:                       2.977   Cond. No.                     3.60e+03\n",
       "==============================================================================\n",
       "\n",
       "Notes:\n",
       "[1] Standard Errors assume that the covariance matrix of the errors is correctly specified.\n",
       "[2] The condition number is large, 3.6e+03. This might indicate that there are\n",
       "strong multicollinearity or other numerical problems.\n",
       "\"\"\""
      ]
     },
     "execution_count": 18,
     "metadata": {},
     "output_type": "execute_result"
    }
   ],
   "source": [
    "\n",
    "result,_ = train_model(cellphone_data, 'Price', final_predictors)\n",
    "result.summary()"
   ]
  },
  {
   "cell_type": "markdown",
   "metadata": {},
   "source": [
    "**p-value for all the response variables is less than 0.05**"
   ]
  },
  {
   "cell_type": "markdown",
   "metadata": {},
   "source": [
    "## Can we improve the model further? "
   ]
  },
  {
   "cell_type": "markdown",
   "metadata": {},
   "source": [
    "### Check for Linear Regression Assumptions"
   ]
  },
  {
   "cell_type": "markdown",
   "metadata": {},
   "source": [
    "#### Non-Linearity\n",
    "\n",
    "How to detect it:\n",
    "1. By using a scatter plot to see the predicted values versus the actual values (in other words, view the residuals). Ideally, the points should lie on or around a diagonal line on the scatter plot.\n",
    "2. By plotting the residuals (y-y') versus the predicted values (y'). Ideally, the residual plot will show no discernible pattern."
   ]
  },
  {
   "cell_type": "code",
   "execution_count": 19,
   "metadata": {},
   "outputs": [],
   "source": [
    "def predict(model, data, response, predictors):\n",
    "    Y = data[response]\n",
    "    X = data[predictors]\n",
    "    X = sm.add_constant(X)\n",
    "    predicted_Y = model.predict(X) \n",
    "    return predicted_Y"
   ]
  },
  {
   "cell_type": "code",
   "execution_count": 21,
   "metadata": {},
   "outputs": [],
   "source": [
    "result, model = train_model(cellphone_data, 'Price', final_predictors)\n",
    "predicted_Y = predict(result, cellphone_data, 'Price', final_predictors)"
   ]
  },
  {
   "cell_type": "code",
   "execution_count": 22,
   "metadata": {},
   "outputs": [],
   "source": [
    "Y = cellphone_data['Price']\n",
    "residuals = Y - predicted_Y\n",
    "df_results = pd.DataFrame({'Actual': Y, 'Predicted': predicted_Y, 'Residuals' : residuals})"
   ]
  },
  {
   "cell_type": "code",
   "execution_count": 23,
   "metadata": {},
   "outputs": [
    {
     "data": {
      "text/plain": [
       "<AxesSubplot:>"
      ]
     },
     "execution_count": 23,
     "metadata": {},
     "output_type": "execute_result"
    },
    {
     "data": {
      "image/png": "[encoded data removed]",
      "text/plain": [
       "<Figure size 432x288 with 1 Axes>"
      ]
     },
     "metadata": {
      "needs_background": "light"
     },
     "output_type": "display_data"
    }
   ],
   "source": [
    "sns.regplot(x=predicted_Y, y=residuals)"
   ]
  },
  {
   "cell_type": "markdown",
   "metadata": {},
   "source": [
    "**There is no discernible pattern in the residuals**"
   ]
  },
  {
   "cell_type": "code",
   "execution_count": 24,
   "metadata": {},
   "outputs": [
    {
     "name": "stderr",
     "output_type": "stream",
     "text": [
      "C:\\Users\\ankit\\anaconda3\\lib\\site-packages\\seaborn\\regression.py:580: UserWarning: The `size` parameter has been renamed to `height`; please update your code.\n",
      "  warnings.warn(msg, UserWarning)\n"
     ]
    },
    {
     "data": {
      "image/png": "[encoded data removed]",
      "text/plain": [
       "<Figure size 504x504 with 1 Axes>"
      ]
     },
     "metadata": {
      "needs_background": "light"
     },
     "output_type": "display_data"
    }
   ],
   "source": [
    "sns.lmplot(x='Actual', y='Predicted', data=df_results, fit_reg=False, size=7)\n",
    "\n",
    "# Plotting the diagonal line\n",
    "line_coords = np.arange(df_results.min().min(), df_results.max().max())\n",
    "plt.plot(line_coords, line_coords,  # X and y points\n",
    "         color='darkorange', linestyle='--')\n",
    "plt.title('Actual vs. Predicted')\n",
    "plt.show()"
   ]
  },
  {
   "cell_type": "markdown",
   "metadata": {},
   "source": [
    "**We can see a relatively even spread around the diagonal line.**"
   ]
  },
  {
   "cell_type": "markdown",
   "metadata": {},
   "source": [
    "### Collinearity ###"
   ]
  },
  {
   "cell_type": "code",
   "execution_count": 26,
   "metadata": {},
   "outputs": [],
   "source": [
    "data = cellphone_data[final_predictors]"
   ]
  },
  {
   "cell_type": "code",
   "execution_count": 27,
   "metadata": {},
   "outputs": [
    {
     "data": {
      "image/png": "[encoded data removed]",
      "text/plain": [
       "<Figure size 432x288 with 2 Axes>"
      ]
     },
     "metadata": {
      "needs_background": "light"
     },
     "output_type": "display_data"
    }
   ],
   "source": [
    "corr = data.corr()\n",
    "ax = sns.heatmap(\n",
    "    corr, \n",
    "    vmin=-1, vmax=1, center=0,\n",
    "    cmap=sns.diverging_palette(20, 220, n=200),\n",
    "    square=True\n",
    ")\n",
    "ax.set_xticklabels(\n",
    "    ax.get_xticklabels(),\n",
    "    rotation=45,\n",
    "    horizontalalignment='right'\n",
    ");"
   ]
  },
  {
   "cell_type": "code",
   "execution_count": 28,
   "metadata": {},
   "outputs": [
    {
     "data": {
      "text/html": [
       "<div>\n",
       "<style scoped>\n",
       "    .dataframe tbody tr th:only-of-type {\n",
       "        vertical-align: middle;\n",
       "    }\n",
       "\n",
       "    .dataframe tbody tr th {\n",
       "        vertical-align: top;\n",
       "    }\n",
       "\n",
       "    .dataframe thead th {\n",
       "        text-align: right;\n",
       "    }\n",
       "</style>\n",
       "<table border=\"1\" class=\"dataframe\">\n",
       "  <thead>\n",
       "    <tr style=\"text-align: right;\">\n",
       "      <th></th>\n",
       "      <th>ram</th>\n",
       "      <th>thickness</th>\n",
       "      <th>ppi</th>\n",
       "      <th>cpu_core</th>\n",
       "      <th>internal_mem</th>\n",
       "      <th>cpu_freq</th>\n",
       "    </tr>\n",
       "  </thead>\n",
       "  <tbody>\n",
       "    <tr>\n",
       "      <th>ram</th>\n",
       "      <td>1.000000</td>\n",
       "      <td>-0.521074</td>\n",
       "      <td>0.748724</td>\n",
       "      <td>0.483128</td>\n",
       "      <td>0.875354</td>\n",
       "      <td>0.633547</td>\n",
       "    </tr>\n",
       "    <tr>\n",
       "      <th>thickness</th>\n",
       "      <td>-0.521074</td>\n",
       "      <td>1.000000</td>\n",
       "      <td>-0.496791</td>\n",
       "      <td>-0.697935</td>\n",
       "      <td>-0.367412</td>\n",
       "      <td>-0.614458</td>\n",
       "    </tr>\n",
       "    <tr>\n",
       "      <th>ppi</th>\n",
       "      <td>0.748724</td>\n",
       "      <td>-0.496791</td>\n",
       "      <td>1.000000</td>\n",
       "      <td>0.487990</td>\n",
       "      <td>0.618560</td>\n",
       "      <td>0.713168</td>\n",
       "    </tr>\n",
       "    <tr>\n",
       "      <th>cpu_core</th>\n",
       "      <td>0.483128</td>\n",
       "      <td>-0.697935</td>\n",
       "      <td>0.487990</td>\n",
       "      <td>1.000000</td>\n",
       "      <td>0.276251</td>\n",
       "      <td>0.491519</td>\n",
       "    </tr>\n",
       "    <tr>\n",
       "      <th>internal_mem</th>\n",
       "      <td>0.875354</td>\n",
       "      <td>-0.367412</td>\n",
       "      <td>0.618560</td>\n",
       "      <td>0.276251</td>\n",
       "      <td>1.000000</td>\n",
       "      <td>0.441400</td>\n",
       "    </tr>\n",
       "    <tr>\n",
       "      <th>cpu_freq</th>\n",
       "      <td>0.633547</td>\n",
       "      <td>-0.614458</td>\n",
       "      <td>0.713168</td>\n",
       "      <td>0.491519</td>\n",
       "      <td>0.441400</td>\n",
       "      <td>1.000000</td>\n",
       "    </tr>\n",
       "  </tbody>\n",
       "</table>\n",
       "</div>"
      ],
      "text/plain": [
       "                   ram  thickness       ppi  cpu_core  internal_mem  cpu_freq\n",
       "ram           1.000000  -0.521074  0.748724  0.483128      0.875354  0.633547\n",
       "thickness    -0.521074   1.000000 -0.496791 -0.697935     -0.367412 -0.614458\n",
       "ppi           0.748724  -0.496791  1.000000  0.487990      0.618560  0.713168\n",
       "cpu_core      0.483128  -0.697935  0.487990  1.000000      0.276251  0.491519\n",
       "internal_mem  0.875354  -0.367412  0.618560  0.276251      1.000000  0.441400\n",
       "cpu_freq      0.633547  -0.614458  0.713168  0.491519      0.441400  1.000000"
      ]
     },
     "execution_count": 28,
     "metadata": {},
     "output_type": "execute_result"
    }
   ],
   "source": [
    "corr"
   ]
  },
  {
   "cell_type": "code",
   "execution_count": 29,
   "metadata": {},
   "outputs": [],
   "source": [
    "from statsmodels.stats.outliers_influence import variance_inflation_factor\n",
    "  \n",
    "def vif(data):\n",
    "    # VIF dataframe\n",
    "    vif_data = pd.DataFrame()\n",
    "    vif_data[\"feature\"] = data.columns\n",
    "\n",
    "    # calculating VIF for each feature\n",
    "    vif_data[\"VIF\"] = [variance_inflation_factor(data.values, i)\n",
    "                              for i in range(len(data.columns))]\n",
    "\n",
    "    print(vif_data)\n"
   ]
  },
  {
   "cell_type": "code",
   "execution_count": 30,
   "metadata": {},
   "outputs": [
    {
     "name": "stdout",
     "output_type": "stream",
     "text": [
      "        feature        VIF\n",
      "0           ram  22.354241\n",
      "1     thickness   4.509992\n",
      "2           ppi  21.443333\n",
      "3      cpu_core   7.229512\n",
      "4  internal_mem   8.895476\n",
      "5      cpu_freq  15.943724\n"
     ]
    }
   ],
   "source": [
    "vif(data)"
   ]
  },
  {
   "cell_type": "code",
   "execution_count": 31,
   "metadata": {},
   "outputs": [
    {
     "name": "stdout",
     "output_type": "stream",
     "text": [
      "        feature       VIF\n",
      "0     thickness  3.682867\n",
      "1      cpu_core  6.011354\n",
      "2  internal_mem  2.175166\n",
      "3      cpu_freq  9.348632\n"
     ]
    }
   ],
   "source": [
    "vif(data.drop(columns=['ram','ppi']))\n"
   ]
  },
  {
   "cell_type": "code",
   "execution_count": 32,
   "metadata": {},
   "outputs": [
    {
     "data": {
      "text/html": [
       "<table class=\"simpletable\">\n",
       "<caption>OLS Regression Results</caption>\n",
       "<tr>\n",
       "  <th>Dep. Variable:</th>          <td>Price</td>      <th>  R-squared:         </th> <td>   0.913</td>\n",
       "</tr>\n",
       "<tr>\n",
       "  <th>Model:</th>                   <td>OLS</td>       <th>  Adj. R-squared:    </th> <td>   0.910</td>\n",
       "</tr>\n",
       "<tr>\n",
       "  <th>Method:</th>             <td>Least Squares</td>  <th>  F-statistic:       </th> <td>   407.2</td>\n",
       "</tr>\n",
       "<tr>\n",
       "  <th>Date:</th>             <td>Sat, 08 Apr 2023</td> <th>  Prob (F-statistic):</th> <td>2.00e-81</td>\n",
       "</tr>\n",
       "<tr>\n",
       "  <th>Time:</th>                 <td>12:57:48</td>     <th>  Log-Likelihood:    </th> <td> -1101.4</td>\n",
       "</tr>\n",
       "<tr>\n",
       "  <th>No. Observations:</th>      <td>   161</td>      <th>  AIC:               </th> <td>   2213.</td>\n",
       "</tr>\n",
       "<tr>\n",
       "  <th>Df Residuals:</th>          <td>   156</td>      <th>  BIC:               </th> <td>   2228.</td>\n",
       "</tr>\n",
       "<tr>\n",
       "  <th>Df Model:</th>              <td>     4</td>      <th>                     </th>     <td> </td>   \n",
       "</tr>\n",
       "<tr>\n",
       "  <th>Covariance Type:</th>      <td>nonrobust</td>    <th>                     </th>     <td> </td>   \n",
       "</tr>\n",
       "</table>\n",
       "<table class=\"simpletable\">\n",
       "<tr>\n",
       "        <td></td>          <th>coef</th>     <th>std err</th>      <th>t</th>      <th>P>|t|</th>  <th>[0.025</th>    <th>0.975]</th>  \n",
       "</tr>\n",
       "<tr>\n",
       "  <th>const</th>        <td> 1396.7973</td> <td>  177.430</td> <td>    7.872</td> <td> 0.000</td> <td> 1046.323</td> <td> 1747.272</td>\n",
       "</tr>\n",
       "<tr>\n",
       "  <th>thickness</th>    <td>  -53.6849</td> <td>   12.945</td> <td>   -4.147</td> <td> 0.000</td> <td>  -79.256</td> <td>  -28.114</td>\n",
       "</tr>\n",
       "<tr>\n",
       "  <th>cpu_core</th>     <td>   98.4368</td> <td>   10.454</td> <td>    9.416</td> <td> 0.000</td> <td>   77.788</td> <td>  119.086</td>\n",
       "</tr>\n",
       "<tr>\n",
       "  <th>internal_mem</th> <td>   13.9895</td> <td>    0.710</td> <td>   19.700</td> <td> 0.000</td> <td>   12.587</td> <td>   15.392</td>\n",
       "</tr>\n",
       "<tr>\n",
       "  <th>cpu_freq</th>     <td>  317.3165</td> <td>   40.435</td> <td>    7.847</td> <td> 0.000</td> <td>  237.445</td> <td>  397.188</td>\n",
       "</tr>\n",
       "</table>\n",
       "<table class=\"simpletable\">\n",
       "<tr>\n",
       "  <th>Omnibus:</th>       <td> 0.932</td> <th>  Durbin-Watson:     </th> <td>   1.735</td>\n",
       "</tr>\n",
       "<tr>\n",
       "  <th>Prob(Omnibus):</th> <td> 0.628</td> <th>  Jarque-Bera (JB):  </th> <td>   0.833</td>\n",
       "</tr>\n",
       "<tr>\n",
       "  <th>Skew:</th>          <td> 0.176</td> <th>  Prob(JB):          </th> <td>   0.659</td>\n",
       "</tr>\n",
       "<tr>\n",
       "  <th>Kurtosis:</th>      <td> 2.979</td> <th>  Cond. No.          </th> <td>    379.</td>\n",
       "</tr>\n",
       "</table><br/><br/>Notes:<br/>[1] Standard Errors assume that the covariance matrix of the errors is correctly specified."
      ],
      "text/plain": [
       "<class 'statsmodels.iolib.summary.Summary'>\n",
       "\"\"\"\n",
       "                            OLS Regression Results                            \n",
       "==============================================================================\n",
       "Dep. Variable:                  Price   R-squared:                       0.913\n",
       "Model:                            OLS   Adj. R-squared:                  0.910\n",
       "Method:                 Least Squares   F-statistic:                     407.2\n",
       "Date:                Sat, 08 Apr 2023   Prob (F-statistic):           2.00e-81\n",
       "Time:                        12:57:48   Log-Likelihood:                -1101.4\n",
       "No. Observations:                 161   AIC:                             2213.\n",
       "Df Residuals:                     156   BIC:                             2228.\n",
       "Df Model:                           4                                         \n",
       "Covariance Type:            nonrobust                                         \n",
       "================================================================================\n",
       "                   coef    std err          t      P>|t|      [0.025      0.975]\n",
       "--------------------------------------------------------------------------------\n",
       "const         1396.7973    177.430      7.872      0.000    1046.323    1747.272\n",
       "thickness      -53.6849     12.945     -4.147      0.000     -79.256     -28.114\n",
       "cpu_core        98.4368     10.454      9.416      0.000      77.788     119.086\n",
       "internal_mem    13.9895      0.710     19.700      0.000      12.587      15.392\n",
       "cpu_freq       317.3165     40.435      7.847      0.000     237.445     397.188\n",
       "==============================================================================\n",
       "Omnibus:                        0.932   Durbin-Watson:                   1.735\n",
       "Prob(Omnibus):                  0.628   Jarque-Bera (JB):                0.833\n",
       "Skew:                           0.176   Prob(JB):                        0.659\n",
       "Kurtosis:                       2.979   Cond. No.                         379.\n",
       "==============================================================================\n",
       "\n",
       "Notes:\n",
       "[1] Standard Errors assume that the covariance matrix of the errors is correctly specified.\n",
       "\"\"\""
      ]
     },
     "execution_count": 32,
     "metadata": {},
     "output_type": "execute_result"
    }
   ],
   "source": [
    "final_predictors = ['thickness', 'cpu_core', 'internal_mem', 'cpu_freq']\n",
    "result,_ = train_model(cellphone_data, 'Price', final_predictors)\n",
    "result.summary()"
   ]
  },
  {
   "cell_type": "markdown",
   "metadata": {},
   "source": [
    "#### Outliers\n",
    "\n",
    "How to detect: Plot the studentized residuals, computed by dividing each residual by its estimated standard error. Observations whose studentized residuals are greater than 3 in absolute value are possible outliers."
   ]
  },
  {
   "cell_type": "code",
   "execution_count": 33,
   "metadata": {},
   "outputs": [
    {
     "data": {
      "text/plain": [
       "'Price ~ thickness + cpu_core + internal_mem + cpu_freq'"
      ]
     },
     "execution_count": 33,
     "metadata": {},
     "output_type": "execute_result"
    }
   ],
   "source": [
    "predictor_string = \" + \".join(final_predictors)\n",
    "formula = 'Price ~ ' + predictor_string\n",
    "formula"
   ]
  },
  {
   "cell_type": "code",
   "execution_count": 34,
   "metadata": {},
   "outputs": [
    {
     "name": "stdout",
     "output_type": "stream",
     "text": [
      "     student_resid   unadj_p  bonf(p)\n",
      "0        -0.360868  0.718689      1.0\n",
      "1         0.957972  0.339568      1.0\n",
      "2         0.178825  0.858309      1.0\n",
      "3        -0.685732  0.493907      1.0\n",
      "4         0.957972  0.339568      1.0\n",
      "..             ...       ...      ...\n",
      "156      -0.797871  0.426166      1.0\n",
      "157      -2.676143  0.008248      1.0\n",
      "158      -0.670760  0.503372      1.0\n",
      "159      -2.676143  0.008248      1.0\n",
      "160       0.451367  0.652356      1.0\n",
      "\n",
      "[161 rows x 3 columns]\n"
     ]
    }
   ],
   "source": [
    "from statsmodels.formula.api import ols\n",
    "model = ols(formula, data=cellphone_data).fit()\n",
    "#calculate studentized residuals\n",
    "stud_res = model.outlier_test()\n",
    "\n",
    "#display studentized residuals\n",
    "print(stud_res)"
   ]
  },
  {
   "cell_type": "code",
   "execution_count": 35,
   "metadata": {},
   "outputs": [
    {
     "data": {
      "text/plain": [
       "Text(0, 0.5, 'Studentized Residuals')"
      ]
     },
     "execution_count": 35,
     "metadata": {},
     "output_type": "execute_result"
    },
    {
     "data": {
      "image/png": "[encoded data removed]",
      "text/plain": [
       "<Figure size 432x288 with 1 Axes>"
      ]
     },
     "metadata": {
      "needs_background": "light"
     },
     "output_type": "display_data"
    }
   ],
   "source": [
    "plt.scatter(x = cellphone_data.index, y=stud_res['student_resid'])\n",
    "plt.axhline(y=0, color='black', linestyle='--')\n",
    "plt.xlabel('Points')\n",
    "plt.ylabel('Studentized Residuals') \n"
   ]
  },
  {
   "cell_type": "markdown",
   "metadata": {},
   "source": [
    "#### High Leverage Points"
   ]
  },
  {
   "cell_type": "code",
   "execution_count": 36,
   "metadata": {},
   "outputs": [],
   "source": [
    "influence = result.get_influence()\n",
    "inf_sum = influence.summary_frame()"
   ]
  },
  {
   "cell_type": "code",
   "execution_count": 37,
   "metadata": {},
   "outputs": [
    {
     "name": "stdout",
     "output_type": "stream",
     "text": [
      "******************** Highest Leverage Data Points ********************\n",
      "     dfb_const  dfb_thickness  dfb_cpu_core  dfb_internal_mem  dfb_cpu_freq  \\\n",
      "140  -0.251364       0.340268      0.130105          0.070287     -0.015273   \n",
      "141  -0.251364       0.340268      0.130105          0.070287     -0.015273   \n",
      "83    0.015155      -0.011860     -0.029118          0.097001     -0.017340   \n",
      "87    0.015155      -0.011860     -0.029118          0.097001     -0.017340   \n",
      "156  -0.002143      -0.007858      0.052019         -0.249880      0.029490   \n",
      "\n",
      "      cooks_d  standard_resid  hat_diag  dffits_internal  student_resid  \\\n",
      "140  0.035941        1.037016  0.143178         0.423914       1.037268   \n",
      "141  0.035941        1.037016  0.143178         0.423914       1.037268   \n",
      "83   0.002269        0.315832  0.102126         0.106516       0.314919   \n",
      "87   0.002269        0.315832  0.102126         0.106516       0.314919   \n",
      "156  0.014328       -0.798802  0.100940        -0.267655      -0.797871   \n",
      "\n",
      "       dffits  \n",
      "140  0.424017  \n",
      "141  0.424017  \n",
      "83   0.106208  \n",
      "87   0.106208  \n",
      "156 -0.267343  \n"
     ]
    }
   ],
   "source": [
    "#Number of observations\n",
    "n = cellphone_data.shape[0]\n",
    "\n",
    "#Predictors\n",
    "k = len(final_predictors)\n",
    "\n",
    "#Leverage\n",
    "cutoff_leverage = ((2*k)+2)/n\n",
    "leverage = inf_sum.hat_diag\n",
    "leverage_sort = inf_sum.sort_values(by = 'hat_diag', ascending = False)\n",
    "print ('*'*20 + ' Highest Leverage Data Points ' + '*'*20)\n",
    "print (leverage_sort.head())"
   ]
  },
  {
   "cell_type": "code",
   "execution_count": 38,
   "metadata": {},
   "outputs": [
    {
     "data": {
      "text/plain": [
       "(14, 1)"
      ]
     },
     "execution_count": 38,
     "metadata": {},
     "output_type": "execute_result"
    }
   ],
   "source": [
    "high_leverage = pd.DataFrame((inf_sum.hat_diag[abs(leverage) > cutoff_leverage]))\n",
    "high_leverage.shape"
   ]
  },
  {
   "cell_type": "code",
   "execution_count": 39,
   "metadata": {},
   "outputs": [
    {
     "data": {
      "text/html": [
       "<table class=\"simpletable\">\n",
       "<caption>OLS Regression Results</caption>\n",
       "<tr>\n",
       "  <th>Dep. Variable:</th>          <td>Price</td>      <th>  R-squared:         </th> <td>   0.899</td>\n",
       "</tr>\n",
       "<tr>\n",
       "  <th>Model:</th>                   <td>OLS</td>       <th>  Adj. R-squared:    </th> <td>   0.896</td>\n",
       "</tr>\n",
       "<tr>\n",
       "  <th>Method:</th>             <td>Least Squares</td>  <th>  F-statistic:       </th> <td>   317.1</td>\n",
       "</tr>\n",
       "<tr>\n",
       "  <th>Date:</th>             <td>Sat, 08 Apr 2023</td> <th>  Prob (F-statistic):</th> <td>1.06e-69</td>\n",
       "</tr>\n",
       "<tr>\n",
       "  <th>Time:</th>                 <td>12:58:07</td>     <th>  Log-Likelihood:    </th> <td> -994.45</td>\n",
       "</tr>\n",
       "<tr>\n",
       "  <th>No. Observations:</th>      <td>   147</td>      <th>  AIC:               </th> <td>   1999.</td>\n",
       "</tr>\n",
       "<tr>\n",
       "  <th>Df Residuals:</th>          <td>   142</td>      <th>  BIC:               </th> <td>   2014.</td>\n",
       "</tr>\n",
       "<tr>\n",
       "  <th>Df Model:</th>              <td>     4</td>      <th>                     </th>     <td> </td>   \n",
       "</tr>\n",
       "<tr>\n",
       "  <th>Covariance Type:</th>      <td>nonrobust</td>    <th>                     </th>     <td> </td>   \n",
       "</tr>\n",
       "</table>\n",
       "<table class=\"simpletable\">\n",
       "<tr>\n",
       "        <td></td>          <th>coef</th>     <th>std err</th>      <th>t</th>      <th>P>|t|</th>  <th>[0.025</th>    <th>0.975]</th>  \n",
       "</tr>\n",
       "<tr>\n",
       "  <th>const</th>        <td> 1335.3511</td> <td>  198.829</td> <td>    6.716</td> <td> 0.000</td> <td>  942.305</td> <td> 1728.398</td>\n",
       "</tr>\n",
       "<tr>\n",
       "  <th>thickness</th>    <td>  -50.9672</td> <td>   15.604</td> <td>   -3.266</td> <td> 0.001</td> <td>  -81.814</td> <td>  -20.121</td>\n",
       "</tr>\n",
       "<tr>\n",
       "  <th>cpu_core</th>     <td>   90.8726</td> <td>   10.696</td> <td>    8.496</td> <td> 0.000</td> <td>   69.728</td> <td>  112.017</td>\n",
       "</tr>\n",
       "<tr>\n",
       "  <th>internal_mem</th> <td>   17.7859</td> <td>    1.315</td> <td>   13.527</td> <td> 0.000</td> <td>   15.187</td> <td>   20.385</td>\n",
       "</tr>\n",
       "<tr>\n",
       "  <th>cpu_freq</th>     <td>  315.0804</td> <td>   39.720</td> <td>    7.933</td> <td> 0.000</td> <td>  236.561</td> <td>  393.599</td>\n",
       "</tr>\n",
       "</table>\n",
       "<table class=\"simpletable\">\n",
       "<tr>\n",
       "  <th>Omnibus:</th>       <td> 4.771</td> <th>  Durbin-Watson:     </th> <td>   1.699</td>\n",
       "</tr>\n",
       "<tr>\n",
       "  <th>Prob(Omnibus):</th> <td> 0.092</td> <th>  Jarque-Bera (JB):  </th> <td>   4.655</td>\n",
       "</tr>\n",
       "<tr>\n",
       "  <th>Skew:</th>          <td> 0.389</td> <th>  Prob(JB):          </th> <td>  0.0975</td>\n",
       "</tr>\n",
       "<tr>\n",
       "  <th>Kurtosis:</th>      <td> 2.606</td> <th>  Cond. No.          </th> <td>    307.</td>\n",
       "</tr>\n",
       "</table><br/><br/>Notes:<br/>[1] Standard Errors assume that the covariance matrix of the errors is correctly specified."
      ],
      "text/plain": [
       "<class 'statsmodels.iolib.summary.Summary'>\n",
       "\"\"\"\n",
       "                            OLS Regression Results                            \n",
       "==============================================================================\n",
       "Dep. Variable:                  Price   R-squared:                       0.899\n",
       "Model:                            OLS   Adj. R-squared:                  0.896\n",
       "Method:                 Least Squares   F-statistic:                     317.1\n",
       "Date:                Sat, 08 Apr 2023   Prob (F-statistic):           1.06e-69\n",
       "Time:                        12:58:07   Log-Likelihood:                -994.45\n",
       "No. Observations:                 147   AIC:                             1999.\n",
       "Df Residuals:                     142   BIC:                             2014.\n",
       "Df Model:                           4                                         \n",
       "Covariance Type:            nonrobust                                         \n",
       "================================================================================\n",
       "                   coef    std err          t      P>|t|      [0.025      0.975]\n",
       "--------------------------------------------------------------------------------\n",
       "const         1335.3511    198.829      6.716      0.000     942.305    1728.398\n",
       "thickness      -50.9672     15.604     -3.266      0.001     -81.814     -20.121\n",
       "cpu_core        90.8726     10.696      8.496      0.000      69.728     112.017\n",
       "internal_mem    17.7859      1.315     13.527      0.000      15.187      20.385\n",
       "cpu_freq       315.0804     39.720      7.933      0.000     236.561     393.599\n",
       "==============================================================================\n",
       "Omnibus:                        4.771   Durbin-Watson:                   1.699\n",
       "Prob(Omnibus):                  0.092   Jarque-Bera (JB):                4.655\n",
       "Skew:                           0.389   Prob(JB):                       0.0975\n",
       "Kurtosis:                       2.606   Cond. No.                         307.\n",
       "==============================================================================\n",
       "\n",
       "Notes:\n",
       "[1] Standard Errors assume that the covariance matrix of the errors is correctly specified.\n",
       "\"\"\""
      ]
     },
     "execution_count": 39,
     "metadata": {},
     "output_type": "execute_result"
    }
   ],
   "source": [
    "indices = high_leverage.index.to_list()\n",
    "cellphone_data = cellphone_data.drop(indices)\n",
    "result, _ = train_model(cellphone_data, 'Price', final_predictors)\n",
    "result.summary()"
   ]
  },
  {
   "cell_type": "markdown",
   "metadata": {},
   "source": [
    "#### Non-constant Variance of Error Terms \n",
    "\n",
    "How to detect: From the presence of a funnel shape in the residual plot"
   ]
  },
  {
   "cell_type": "code",
   "execution_count": 40,
   "metadata": {},
   "outputs": [
    {
     "data": {
      "text/plain": [
       "<AxesSubplot:>"
      ]
     },
     "execution_count": 40,
     "metadata": {},
     "output_type": "execute_result"
    },
    {
     "data": {
      "image/png": "[encoded data removed]",
      "text/plain": [
       "<Figure size 432x288 with 1 Axes>"
      ]
     },
     "metadata": {
      "needs_background": "light"
     },
     "output_type": "display_data"
    }
   ],
   "source": [
    "result,_ = train_model(cellphone_data, 'Price', final_predictors)\n",
    "predicted_Y = predict(result, cellphone_data, 'Price', final_predictors)\n",
    "Y = cellphone_data['Price']\n",
    "residuals = Y - predicted_Y\n",
    "df_results = pd.DataFrame({'Actual': Y, 'Predicted': predicted_Y, 'Residuals' : residuals})\n",
    "sns.regplot(x=predicted_Y, y=residuals)"
   ]
  },
  {
   "cell_type": "markdown",
   "metadata": {},
   "source": [
    "Points are not randomly scattered and it seems as the variance (i.e. spread) of the residuals increases as the predicted values increase."
   ]
  },
  {
   "cell_type": "code",
   "execution_count": 41,
   "metadata": {},
   "outputs": [
    {
     "data": {
      "text/html": [
       "<table class=\"simpletable\">\n",
       "<caption>WLS Regression Results</caption>\n",
       "<tr>\n",
       "  <th>Dep. Variable:</th>          <td>Price</td>      <th>  R-squared:         </th> <td>   0.925</td>\n",
       "</tr>\n",
       "<tr>\n",
       "  <th>Model:</th>                   <td>WLS</td>       <th>  Adj. R-squared:    </th> <td>   0.923</td>\n",
       "</tr>\n",
       "<tr>\n",
       "  <th>Method:</th>             <td>Least Squares</td>  <th>  F-statistic:       </th> <td>   436.9</td>\n",
       "</tr>\n",
       "<tr>\n",
       "  <th>Date:</th>             <td>Sat, 08 Apr 2023</td> <th>  Prob (F-statistic):</th> <td>1.04e-78</td>\n",
       "</tr>\n",
       "<tr>\n",
       "  <th>Time:</th>                 <td>12:58:10</td>     <th>  Log-Likelihood:    </th> <td> -988.42</td>\n",
       "</tr>\n",
       "<tr>\n",
       "  <th>No. Observations:</th>      <td>   147</td>      <th>  AIC:               </th> <td>   1987.</td>\n",
       "</tr>\n",
       "<tr>\n",
       "  <th>Df Residuals:</th>          <td>   142</td>      <th>  BIC:               </th> <td>   2002.</td>\n",
       "</tr>\n",
       "<tr>\n",
       "  <th>Df Model:</th>              <td>     4</td>      <th>                     </th>     <td> </td>   \n",
       "</tr>\n",
       "<tr>\n",
       "  <th>Covariance Type:</th>      <td>nonrobust</td>    <th>                     </th>     <td> </td>   \n",
       "</tr>\n",
       "</table>\n",
       "<table class=\"simpletable\">\n",
       "<tr>\n",
       "        <td></td>          <th>coef</th>     <th>std err</th>      <th>t</th>      <th>P>|t|</th>  <th>[0.025</th>    <th>0.975]</th>  \n",
       "</tr>\n",
       "<tr>\n",
       "  <th>const</th>        <td> 1379.6084</td> <td>  186.008</td> <td>    7.417</td> <td> 0.000</td> <td> 1011.905</td> <td> 1747.312</td>\n",
       "</tr>\n",
       "<tr>\n",
       "  <th>thickness</th>    <td>  -52.4568</td> <td>   14.249</td> <td>   -3.682</td> <td> 0.000</td> <td>  -80.623</td> <td>  -24.290</td>\n",
       "</tr>\n",
       "<tr>\n",
       "  <th>cpu_core</th>     <td>   88.0145</td> <td>   10.618</td> <td>    8.289</td> <td> 0.000</td> <td>   67.025</td> <td>  109.004</td>\n",
       "</tr>\n",
       "<tr>\n",
       "  <th>internal_mem</th> <td>   18.7035</td> <td>    1.444</td> <td>   12.956</td> <td> 0.000</td> <td>   15.850</td> <td>   21.557</td>\n",
       "</tr>\n",
       "<tr>\n",
       "  <th>cpu_freq</th>     <td>  292.0846</td> <td>   37.277</td> <td>    7.836</td> <td> 0.000</td> <td>  218.395</td> <td>  365.774</td>\n",
       "</tr>\n",
       "</table>\n",
       "<table class=\"simpletable\">\n",
       "<tr>\n",
       "  <th>Omnibus:</th>       <td> 7.464</td> <th>  Durbin-Watson:     </th> <td>   1.705</td>\n",
       "</tr>\n",
       "<tr>\n",
       "  <th>Prob(Omnibus):</th> <td> 0.024</td> <th>  Jarque-Bera (JB):  </th> <td>   4.422</td>\n",
       "</tr>\n",
       "<tr>\n",
       "  <th>Skew:</th>          <td> 0.241</td> <th>  Prob(JB):          </th> <td>   0.110</td>\n",
       "</tr>\n",
       "<tr>\n",
       "  <th>Kurtosis:</th>      <td> 2.301</td> <th>  Cond. No.          </th> <td>    255.</td>\n",
       "</tr>\n",
       "</table><br/><br/>Notes:<br/>[1] Standard Errors assume that the covariance matrix of the errors is correctly specified."
      ],
      "text/plain": [
       "<class 'statsmodels.iolib.summary.Summary'>\n",
       "\"\"\"\n",
       "                            WLS Regression Results                            \n",
       "==============================================================================\n",
       "Dep. Variable:                  Price   R-squared:                       0.925\n",
       "Model:                            WLS   Adj. R-squared:                  0.923\n",
       "Method:                 Least Squares   F-statistic:                     436.9\n",
       "Date:                Sat, 08 Apr 2023   Prob (F-statistic):           1.04e-78\n",
       "Time:                        12:58:10   Log-Likelihood:                -988.42\n",
       "No. Observations:                 147   AIC:                             1987.\n",
       "Df Residuals:                     142   BIC:                             2002.\n",
       "Df Model:                           4                                         \n",
       "Covariance Type:            nonrobust                                         \n",
       "================================================================================\n",
       "                   coef    std err          t      P>|t|      [0.025      0.975]\n",
       "--------------------------------------------------------------------------------\n",
       "const         1379.6084    186.008      7.417      0.000    1011.905    1747.312\n",
       "thickness      -52.4568     14.249     -3.682      0.000     -80.623     -24.290\n",
       "cpu_core        88.0145     10.618      8.289      0.000      67.025     109.004\n",
       "internal_mem    18.7035      1.444     12.956      0.000      15.850      21.557\n",
       "cpu_freq       292.0846     37.277      7.836      0.000     218.395     365.774\n",
       "==============================================================================\n",
       "Omnibus:                        7.464   Durbin-Watson:                   1.705\n",
       "Prob(Omnibus):                  0.024   Jarque-Bera (JB):                4.422\n",
       "Skew:                           0.241   Prob(JB):                        0.110\n",
       "Kurtosis:                       2.301   Cond. No.                         255.\n",
       "==============================================================================\n",
       "\n",
       "Notes:\n",
       "[1] Standard Errors assume that the covariance matrix of the errors is correctly specified.\n",
       "\"\"\""
      ]
     },
     "execution_count": 41,
     "metadata": {},
     "output_type": "execute_result"
    }
   ],
   "source": [
    "import statsmodels.formula.api as smf\n",
    "\n",
    "def train_WLS(data, response, predictors, wt):\n",
    "    Y = data[response]\n",
    "    X = data[predictors]\n",
    "    X = sm.add_constant(X)\n",
    "    model = sm.WLS(Y, X, weights=wt)\n",
    "    result = model.fit()\n",
    "    return result, model\n",
    "\n",
    "result, _ = train_model(cellphone_data, 'Price', final_predictors)\n",
    "\n",
    "#define weights to use\n",
    "wt = 1 / smf.ols('result.resid.abs() ~ result.fittedvalues', data=cellphone_data).fit().fittedvalues**2\n",
    "\n",
    "result_wls, _ = train_WLS(cellphone_data, 'Price', final_predictors, wt)\n",
    "result_wls.summary()"
   ]
  }
 ],
 "metadata": {
  "kernelspec": {
   "display_name": "Python 3",
   "language": "python",
   "name": "python3"
  },
  "language_info": {
   "codemirror_mode": {
    "name": "ipython",
    "version": 3
   },
   "file_extension": ".py",
   "mimetype": "text/x-python",
   "name": "python",
   "nbconvert_exporter": "python",
   "pygments_lexer": "ipython3",
   "version": "3.8.5"
  }
 },
 "nbformat": 4,
 "nbformat_minor": 4
}
